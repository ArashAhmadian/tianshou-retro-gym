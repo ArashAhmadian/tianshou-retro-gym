{
 "cells": [
  {
   "cell_type": "code",
   "execution_count": 1,
   "metadata": {},
   "outputs": [
    {
     "name": "stderr",
     "output_type": "stream",
     "text": [
      "/home/arasha/GitHub/tianshou-retro-gym/venv-drl/lib/python3.8/site-packages/tqdm/auto.py:22: TqdmWarning: IProgress not found. Please update jupyter and ipywidgets. See https://ipywidgets.readthedocs.io/en/stable/user_install.html\n",
      "  from .autonotebook import tqdm as notebook_tqdm\n"
     ]
    }
   ],
   "source": [
    "import argparse\n",
    "import datetime\n",
    "import os\n",
    "import pprint\n",
    "\n",
    "import numpy as np\n",
    "import torch\n",
    "from models import DQN, AtariViT, DNN\n",
    "import retro\n",
    "from retro_wrappers import make_atari_env\n",
    "from torch.utils.tensorboard import SummaryWriter\n",
    "\n",
    "from tianshou.data import Collector, VectorReplayBuffer\n",
    "from tianshou.policy import DQNPolicy\n",
    "from tianshou.trainer import offpolicy_trainer\n",
    "from tianshou.utils import TensorboardLogger\n",
    "from tianshou.utils.net.discrete import IntrinsicCuriosityModule\n"
   ]
  },
  {
   "cell_type": "code",
   "execution_count": 14,
   "metadata": {},
   "outputs": [
    {
     "name": "stdout",
     "output_type": "stream",
     "text": [
      "defaultdict(None, {'Adventure-Atari2600': 3432.63702801337, 'AirRaid-Atari2600': 3174.9600556675346, 'Alien-Atari2600': 3082.3437239516647, 'Amidar-Atari2600': 2758.7838104935768, 'Asteroids-Atari2600': 3087.826353939301, 'BattleZone-Atari2600': 3160.995688198893, 'BeamRider-Atari2600': 3210.2665977563056, 'Berzerk-Atari2600': 3506.2911378352387, 'Bowling-Atari2600': 3460.108435271541, 'Boxing-Atari2600': 2937.2001190901406, 'Breakout-Atari2600': 3509.3953191205596, 'Carnival-Atari2600': 3141.0751254167203, 'Centipede-Atari2600': 2839.936265182342, 'ChopperCommand-Atari2600': 3267.3099960131426, 'CrazyClimber-Atari2600': 3751.3663008082563, 'ElevatorAction-Atari2600': 3186.6672334481295, 'Enduro-Atari2600': 2937.811651452301, 'FishingDerby-Atari2600': 3072.7488324913556, 'Freeway-Atari2600': 3056.005734440692, 'Frostbite-Atari2600': 3252.1823768295158, 'Hero-Atari2600': 3084.077786216179, 'Jamesbond-Atari2600': 3348.395764466612, 'JourneyEscape-Atari2600': 3068.9623192180934, 'Kangaroo-Atari2600': 2969.995308115742, 'MontezumaRevenge-Atari2600': 3138.0399198728087, 'Phoenix-Atari2600': 3476.31725386532, 'PrivateEye-Atari2600': 3029.3250854608245, 'Qbert-Atari2600': 3090.8186789233237, 'Robotank-Atari2600': 3008.295523171664, 'Seaquest-Atari2600': 3424.9436638010634, 'Assault-Atari2600': 3246.217461379565, 'Solaris-Atari2600': 3024.153912941972, 'StarGunner-Atari2600': 3832.4990363480338, 'TimePilot-Atari2600': 3543.5309901313817, 'UpNDown-Atari2600': 3112.4093467026137, 'Pong-Atari2600': 3089.9993973685487, 'Zaxxon-Atari2600': 3296.315086649119})\n",
      "0.07337431522607953\n"
     ]
    }
   ],
   "source": [
    "import pickle\n",
    "import matplotlib.pyplot as plt \n",
    "\n",
    "plt.plot()\n",
    "sample_dict = pickle.load(open('sample_dict_no_render.pkl','rb'))\n",
    "print(sample_dict)\n",
    "avg = sum(sample_dict.values())/ len(sample_dict.values())\n",
    "std = (sum((number - avg)**2 for number in sample_dict.values()) / len(sample_dict.values())) ** 0.5\n",
    "print(std / avg )"
   ]
  },
  {
   "cell_type": "code",
   "execution_count": 32,
   "metadata": {},
   "outputs": [
    {
     "name": "stderr",
     "output_type": "stream",
     "text": [
      "No artists with labels found to put in legend.  Note that artists whose label start with an underscore are ignored when legend() is called with no argument.\n"
     ]
    },
    {
     "name": "stdout",
     "output_type": "stream",
     "text": [
      "defaultdict(<class 'dict'>, {'Pong-Atari2600': {1: 4.003131628036499, 2: 2.3152830600738525, 4: 1.5266032218933105, 8: 1.129776954650879, 16: 0.9532275199890137, 32: 0.9903841018676758, 64: 17.003931045532227}})\n",
      "{}\n"
     ]
    },
    {
     "data": {
      "image/png": "[encoded data removed]",
      "text/plain": [
       "<Figure size 640x480 with 1 Axes>"
      ]
     },
     "metadata": {},
     "output_type": "display_data"
    }
   ],
   "source": [
    "tsample_render = pickle.load(open('tsample_dict_render.pkl','rb'))\n",
    "tsample_norender = pickle.load(open('tsample_dict_no_render.pkl','rb'))\n",
    "print(tsample_render)\n",
    "print(tsample_render[0])\n",
    "\n",
    "plt.plot([1,2,4,8,16,32],[1353,2251,3385,4254,4751,4790],marker='o')\n",
    "#plt.scatter(tsample_render['Pong-Atari2600'].keys(), tsample_render['Pong-Atari2600'].values(),marker='o',label='rendered')\n",
    "#plt.scatter(tsample_norender['Pong-Atari2600'].keys(), tsample_norender['Pong-Atari2600'].values(),marker='x',label='not_rendered')\n",
    "plt.title(\"FPS vs training_env num\")\n",
    "plt.legend(loc='upper left')\n",
    "plt.show()"
   ]
  },
  {
   "cell_type": "code",
   "execution_count": 3,
   "metadata": {},
   "outputs": [],
   "source": [
    "import bs4\n",
    "import requests\n",
    "\n",
    "url = \"http://bossa.pl/pub/metastock/ofe/sesjaofe/\"\n",
    "r = requests.get(url)\n",
    "data = bs4.BeautifulSoup(r.text, \"html.parser\")\n",
    "for l in data.find_all(\"a\"):\n",
    "    r = requests.get(url + l[\"href\"])\n",
    "    print(r.status_code)"
   ]
  },
  {
   "cell_type": "code",
   "execution_count": 29,
   "metadata": {},
   "outputs": [
    {
     "name": "stdout",
     "output_type": "stream",
     "text": [
      "Unexpected exception formatting exception. Falling back to standard exception\n"
     ]
    },
    {
     "name": "stderr",
     "output_type": "stream",
     "text": [
      "Traceback (most recent call last):\n",
      "  File \"/home/arasha/GitHub/tianshou-retro-gym/venv-drl/lib/python3.8/site-packages/IPython/core/interactiveshell.py\", line 3442, in run_code\n",
      "    exec(code_obj, self.user_global_ns, self.user_ns)\n",
      "  File \"/tmp/ipykernel_1573/2012971806.py\", line 1, in <module>\n",
      "    env = retro.make(\"Pong-Atari2600\")\n",
      "  File \"/home/arasha/GitHub/tianshou-retro-gym/venv-drl/lib/python3.8/site-packages/retro/__init__.py\", line 55, in make\n",
      "    return RetroEnv(game, state, inttype=inttype, **kwargs)\n",
      "  File \"/home/arasha/GitHub/tianshou-retro-gym/venv-drl/lib/python3.8/site-packages/retro/retro_env.py\", line 87, in __init__\n",
      "RuntimeError: Cannot create multiple emulator instances per process, make sure to call env.close() on each environment before creating a new one\n",
      "\n",
      "During handling of the above exception, another exception occurred:\n",
      "\n",
      "Traceback (most recent call last):\n",
      "  File \"/home/arasha/GitHub/tianshou-retro-gym/venv-drl/lib/python3.8/site-packages/IPython/core/interactiveshell.py\", line 2057, in showtraceback\n",
      "    stb = self.InteractiveTB.structured_traceback(\n",
      "  File \"/home/arasha/GitHub/tianshou-retro-gym/venv-drl/lib/python3.8/site-packages/IPython/core/ultratb.py\", line 1118, in structured_traceback\n",
      "    return FormattedTB.structured_traceback(\n",
      "  File \"/home/arasha/GitHub/tianshou-retro-gym/venv-drl/lib/python3.8/site-packages/IPython/core/ultratb.py\", line 1012, in structured_traceback\n",
      "    return VerboseTB.structured_traceback(\n",
      "  File \"/home/arasha/GitHub/tianshou-retro-gym/venv-drl/lib/python3.8/site-packages/IPython/core/ultratb.py\", line 865, in structured_traceback\n",
      "    formatted_exception = self.format_exception_as_a_whole(etype, evalue, etb, number_of_lines_of_context,\n",
      "  File \"/home/arasha/GitHub/tianshou-retro-gym/venv-drl/lib/python3.8/site-packages/IPython/core/ultratb.py\", line 818, in format_exception_as_a_whole\n",
      "    frames.append(self.format_record(r))\n",
      "  File \"/home/arasha/GitHub/tianshou-retro-gym/venv-drl/lib/python3.8/site-packages/IPython/core/ultratb.py\", line 736, in format_record\n",
      "    result += ''.join(_format_traceback_lines(frame_info.lines, Colors, self.has_colors, lvals))\n",
      "  File \"/home/arasha/GitHub/tianshou-retro-gym/venv-drl/lib/python3.8/site-packages/stack_data/utils.py\", line 144, in cached_property_wrapper\n",
      "    value = obj.__dict__[self.func.__name__] = self.func(obj)\n",
      "  File \"/home/arasha/GitHub/tianshou-retro-gym/venv-drl/lib/python3.8/site-packages/stack_data/core.py\", line 734, in lines\n",
      "    pieces = self.included_pieces\n",
      "  File \"/home/arasha/GitHub/tianshou-retro-gym/venv-drl/lib/python3.8/site-packages/stack_data/utils.py\", line 144, in cached_property_wrapper\n",
      "    value = obj.__dict__[self.func.__name__] = self.func(obj)\n",
      "  File \"/home/arasha/GitHub/tianshou-retro-gym/venv-drl/lib/python3.8/site-packages/stack_data/core.py\", line 681, in included_pieces\n",
      "    pos = scope_pieces.index(self.executing_piece)\n",
      "  File \"/home/arasha/GitHub/tianshou-retro-gym/venv-drl/lib/python3.8/site-packages/stack_data/utils.py\", line 144, in cached_property_wrapper\n",
      "    value = obj.__dict__[self.func.__name__] = self.func(obj)\n",
      "  File \"/home/arasha/GitHub/tianshou-retro-gym/venv-drl/lib/python3.8/site-packages/stack_data/core.py\", line 660, in executing_piece\n",
      "    return only(\n",
      "  File \"/home/arasha/GitHub/tianshou-retro-gym/venv-drl/lib/python3.8/site-packages/executing/executing.py\", line 190, in only\n",
      "    raise NotOneValueFound('Expected one value, found 0')\n",
      "executing.executing.NotOneValueFound: Expected one value, found 0\n"
     ]
    }
   ],
   "source": [
    "env = retro.make(\"Pong-Atari2600\")\n",
    "env.close()\n",
    "#print(env.action_space,file=open(\"lul.txt\",'w'))"
   ]
  }
 ],
 "metadata": {
  "interpreter": {
   "hash": "56a273c84d9dc845c84d2c12aacc80ea392afd0140a56292cb0cca311cfbb931"
  },
  "kernelspec": {
   "display_name": "Python 3.8.16 ('venv-drl': venv)",
   "language": "python",
   "name": "python3"
  },
  "language_info": {
   "codemirror_mode": {
    "name": "ipython",
    "version": 3
   },
   "file_extension": ".py",
   "mimetype": "text/x-python",
   "name": "python",
   "nbconvert_exporter": "python",
   "pygments_lexer": "ipython3",
   "version": "3.8.16"
  },
  "orig_nbformat": 4
 },
 "nbformat": 4,
 "nbformat_minor": 2
}
